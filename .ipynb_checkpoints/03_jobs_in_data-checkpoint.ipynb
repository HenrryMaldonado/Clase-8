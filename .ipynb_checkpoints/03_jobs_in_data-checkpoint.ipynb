{
 "cells": [
  {
   "cell_type": "markdown",
   "id": "032b5e7d-f7c3-446c-8e0a-fc43b98abbf8",
   "metadata": {},
   "source": [
    "# Jobs in data"
   ]
  },
  {
   "cell_type": "code",
   "execution_count": 9,
   "id": "48d1e598-d1dc-4cf5-96b2-db9cc4c09645",
   "metadata": {},
   "outputs": [],
   "source": [
    "import pandas as pd\n",
    "import seaborn as sns\n",
    "import numpy as np\n",
    "import matplotlib.pyplot as plt\n",
    "\n",
    "import warnings\n",
    "warnings.simplefilter('ignore')"
   ]
  },
  {
   "cell_type": "code",
   "execution_count": 11,
   "id": "34120e3b-f8aa-46f3-bb17-be2f8362f70e",
   "metadata": {},
   "outputs": [
    {
     "data": {
      "text/html": [
       "<div>\n",
       "<style scoped>\n",
       "    .dataframe tbody tr th:only-of-type {\n",
       "        vertical-align: middle;\n",
       "    }\n",
       "\n",
       "    .dataframe tbody tr th {\n",
       "        vertical-align: top;\n",
       "    }\n",
       "\n",
       "    .dataframe thead th {\n",
       "        text-align: right;\n",
       "    }\n",
       "</style>\n",
       "<table border=\"1\" class=\"dataframe\">\n",
       "  <thead>\n",
       "    <tr style=\"text-align: right;\">\n",
       "      <th></th>\n",
       "      <th>work_year</th>\n",
       "      <th>job_title</th>\n",
       "      <th>job_category</th>\n",
       "      <th>salary_currency</th>\n",
       "      <th>salary</th>\n",
       "      <th>salary_in_usd</th>\n",
       "      <th>employee_residence</th>\n",
       "      <th>experience_level</th>\n",
       "      <th>employment_type</th>\n",
       "      <th>work_setting</th>\n",
       "      <th>company_location</th>\n",
       "      <th>company_size</th>\n",
       "    </tr>\n",
       "  </thead>\n",
       "  <tbody>\n",
       "    <tr>\n",
       "      <th>0</th>\n",
       "      <td>2023</td>\n",
       "      <td>Data DevOps Engineer</td>\n",
       "      <td>Data Engineering</td>\n",
       "      <td>EUR</td>\n",
       "      <td>88000</td>\n",
       "      <td>95012</td>\n",
       "      <td>Germany</td>\n",
       "      <td>Mid-level</td>\n",
       "      <td>Full-time</td>\n",
       "      <td>Hybrid</td>\n",
       "      <td>Germany</td>\n",
       "      <td>L</td>\n",
       "    </tr>\n",
       "    <tr>\n",
       "      <th>1</th>\n",
       "      <td>2023</td>\n",
       "      <td>Data Architect</td>\n",
       "      <td>Data Architecture and Modeling</td>\n",
       "      <td>USD</td>\n",
       "      <td>186000</td>\n",
       "      <td>186000</td>\n",
       "      <td>United States</td>\n",
       "      <td>Senior</td>\n",
       "      <td>Full-time</td>\n",
       "      <td>In-person</td>\n",
       "      <td>United States</td>\n",
       "      <td>M</td>\n",
       "    </tr>\n",
       "    <tr>\n",
       "      <th>2</th>\n",
       "      <td>2023</td>\n",
       "      <td>Data Architect</td>\n",
       "      <td>Data Architecture and Modeling</td>\n",
       "      <td>USD</td>\n",
       "      <td>81800</td>\n",
       "      <td>81800</td>\n",
       "      <td>United States</td>\n",
       "      <td>Senior</td>\n",
       "      <td>Full-time</td>\n",
       "      <td>In-person</td>\n",
       "      <td>United States</td>\n",
       "      <td>M</td>\n",
       "    </tr>\n",
       "    <tr>\n",
       "      <th>3</th>\n",
       "      <td>2023</td>\n",
       "      <td>Data Scientist</td>\n",
       "      <td>Data Science and Research</td>\n",
       "      <td>USD</td>\n",
       "      <td>212000</td>\n",
       "      <td>212000</td>\n",
       "      <td>United States</td>\n",
       "      <td>Senior</td>\n",
       "      <td>Full-time</td>\n",
       "      <td>In-person</td>\n",
       "      <td>United States</td>\n",
       "      <td>M</td>\n",
       "    </tr>\n",
       "    <tr>\n",
       "      <th>4</th>\n",
       "      <td>2023</td>\n",
       "      <td>Data Scientist</td>\n",
       "      <td>Data Science and Research</td>\n",
       "      <td>USD</td>\n",
       "      <td>93300</td>\n",
       "      <td>93300</td>\n",
       "      <td>United States</td>\n",
       "      <td>Senior</td>\n",
       "      <td>Full-time</td>\n",
       "      <td>In-person</td>\n",
       "      <td>United States</td>\n",
       "      <td>M</td>\n",
       "    </tr>\n",
       "  </tbody>\n",
       "</table>\n",
       "</div>"
      ],
      "text/plain": [
       "   work_year             job_title                    job_category  \\\n",
       "0       2023  Data DevOps Engineer                Data Engineering   \n",
       "1       2023        Data Architect  Data Architecture and Modeling   \n",
       "2       2023        Data Architect  Data Architecture and Modeling   \n",
       "3       2023        Data Scientist       Data Science and Research   \n",
       "4       2023        Data Scientist       Data Science and Research   \n",
       "\n",
       "  salary_currency  salary  salary_in_usd employee_residence experience_level  \\\n",
       "0             EUR   88000          95012            Germany        Mid-level   \n",
       "1             USD  186000         186000      United States           Senior   \n",
       "2             USD   81800          81800      United States           Senior   \n",
       "3             USD  212000         212000      United States           Senior   \n",
       "4             USD   93300          93300      United States           Senior   \n",
       "\n",
       "  employment_type work_setting company_location company_size  \n",
       "0       Full-time       Hybrid          Germany            L  \n",
       "1       Full-time    In-person    United States            M  \n",
       "2       Full-time    In-person    United States            M  \n",
       "3       Full-time    In-person    United States            M  \n",
       "4       Full-time    In-person    United States            M  "
      ]
     },
     "execution_count": 11,
     "metadata": {},
     "output_type": "execute_result"
    }
   ],
   "source": [
    "df = pd.read_csv('Datasets/jobs_in_data.csv')\n",
    "df.columns = df.columns.str.lower().str.replace(' ', '_')\n",
    "df.head()"
   ]
  },
  {
   "cell_type": "markdown",
   "id": "fd8d62d7-89a5-4975-ba8d-c6603fc92abf",
   "metadata": {},
   "source": [
    "### ¿Cuáles son las catogorías que existen?"
   ]
  },
  {
   "cell_type": "code",
   "execution_count": 14,
   "id": "f74cdc11-bb0e-4122-92c6-c47e769e2323",
   "metadata": {},
   "outputs": [
    {
     "data": {
      "text/plain": [
       "array(['Data Engineering', 'Data Architecture and Modeling',\n",
       "       'Data Science and Research', 'Machine Learning and AI',\n",
       "       'Data Analysis', 'Leadership and Management',\n",
       "       'BI and Visualization', 'Data Quality and Operations',\n",
       "       'Data Management and Strategy', 'Cloud and Database'], dtype=object)"
      ]
     },
     "execution_count": 14,
     "metadata": {},
     "output_type": "execute_result"
    }
   ],
   "source": [
    "df.job_category.unique()"
   ]
  },
  {
   "cell_type": "code",
   "execution_count": 29,
   "id": "058d239a-1ed5-4812-a582-e53413804a23",
   "metadata": {},
   "outputs": [
    {
     "name": "stdout",
     "output_type": "stream",
     "text": [
      "[2023 2022 2020 2021]\n",
      "\n",
      "work_year\n",
      "2023    7453\n",
      "2022    1634\n",
      "2021     197\n",
      "2020      71\n",
      "Name: count, dtype: int64\n",
      "\n",
      "4\n"
     ]
    }
   ],
   "source": [
    "print(f'{df.work_year.unique()}\\n')\n",
    "print(f'{df.work_year.value_counts()}\\n')\n",
    "print(df.work_year.nunique())"
   ]
  },
  {
   "cell_type": "code",
   "execution_count": 37,
   "id": "c16cb970-3264-48c9-a587-ad76a51f05f9",
   "metadata": {},
   "outputs": [
    {
     "name": "stdout",
     "output_type": "stream",
     "text": [
      "125\n",
      "\n",
      "job_title\n",
      "Data Engineer                     2195\n",
      "Data Scientist                    1989\n",
      "Data Analyst                      1388\n",
      "Machine Learning Engineer          991\n",
      "Applied Scientist                  272\n",
      "                                  ... \n",
      "Consultant Data Engineer             1\n",
      "Sales Data Analyst                   1\n",
      "Managing Director Data Science       1\n",
      "AWS Data Architect                   1\n",
      "Deep Learning Researcher             1\n",
      "Name: count, Length: 125, dtype: int64\n",
      "\n"
     ]
    }
   ],
   "source": [
    "print(f'{df.job_title.nunique()}\\n')\n",
    "print(f'{df.job_title.value_counts()}\\n')"
   ]
  },
  {
   "cell_type": "code",
   "execution_count": 42,
   "id": "f1548b56-0f9c-49dc-90bb-e73425ec925b",
   "metadata": {},
   "outputs": [
    {
     "name": "stdout",
     "output_type": "stream",
     "text": [
      "11\n",
      "\n",
      "['EUR' 'USD' 'GBP' 'CAD' 'AUD' 'PLN' 'BRL' 'TRY' 'CHF' 'SGD' 'DKK']\n",
      "\n",
      "salary_currency\n",
      "USD    8591\n",
      "GBP     347\n",
      "EUR     340\n",
      "CAD      38\n",
      "AUD      11\n",
      "PLN       7\n",
      "SGD       6\n",
      "CHF       5\n",
      "BRL       4\n",
      "TRY       3\n",
      "DKK       3\n",
      "Name: count, dtype: int64\n",
      "\n"
     ]
    }
   ],
   "source": [
    "print(f'{df.salary_currency.nunique()}\\n')\n",
    "print(f'{df.salary_currency.unique()}\\n')\n",
    "print(f'{df.salary_currency.value_counts()}\\n')"
   ]
  },
  {
   "cell_type": "code",
   "execution_count": 43,
   "id": "3330fb6b-d558-4f06-9370-11a530a8855b",
   "metadata": {},
   "outputs": [
    {
     "name": "stdout",
     "output_type": "stream",
     "text": [
      "4\n",
      "\n",
      "['Mid-level' 'Senior' 'Executive' 'Entry-level']\n",
      "\n"
     ]
    }
   ],
   "source": [
    "print(f'{df.experience_level.nunique()}\\n')\n",
    "print(f'{df.experience_level.unique()}\\n')"
   ]
  },
  {
   "cell_type": "code",
   "execution_count": 48,
   "id": "8f2b5c4e-61e1-48ad-bda7-7d8dd429539a",
   "metadata": {},
   "outputs": [
    {
     "data": {
      "text/plain": [
       "<function matplotlib.pyplot.show(close=None, block=None)>"
      ]
     },
     "execution_count": 48,
     "metadata": {},
     "output_type": "execute_result"
    },
    {
     "data": {
      "image/png": "[encoded data removed]",
      "text/plain": [
       "<Figure size 500x500 with 1 Axes>"
      ]
     },
     "metadata": {},
     "output_type": "display_data"
    }
   ],
   "source": [
    "top_five = df['job_category'].value_counts()[:5]\n",
    "top_five.plot(\n",
    "    kind = 'pie',\n",
    "    autopct = '%1.1f%%'\n",
    ")\n",
    "plt.title('Top 5 Jobs')\n",
    "figure = plt.gcf()\n",
    "figure.set_size_inches(5, 5)\n",
    "plt.show"
   ]
  }
 ],
 "metadata": {
  "kernelspec": {
   "display_name": "Python 3 (ipykernel)",
   "language": "python",
   "name": "python3"
  },
  "language_info": {
   "codemirror_mode": {
    "name": "ipython",
    "version": 3
   },
   "file_extension": ".py",
   "mimetype": "text/x-python",
   "name": "python",
   "nbconvert_exporter": "python",
   "pygments_lexer": "ipython3",
   "version": "3.10.11"
  }
 },
 "nbformat": 4,
 "nbformat_minor": 5
}
